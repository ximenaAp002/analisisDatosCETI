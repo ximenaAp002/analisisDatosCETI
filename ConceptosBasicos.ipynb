{
 "cells": [
  {
   "cell_type": "markdown",
   "metadata": {},
   "source": [
    "# Conceptos básicos en Python\n",
    "\n",
    "## 1. Variables y tipos de datos\n",
    "Una variable en Python es un contenedor que almacena un valor en memoria y puede cambiar durante la ejecución del programa.\n",
    "Ejemplo de asignación de una variable con un número entero:"
   ]
  },
  {
   "cell_type": "code",
   "execution_count": null,
   "metadata": {},
   "outputs": [],
   "source": [
    "x = 10"
   ]
  },
  {
   "cell_type": "markdown",
   "metadata": {},
   "source": [
    "Tipos de datos primitivos en Python: int, float, str, bool.\n",
    "\n",
    "Python también soporta tipos de datos complejos como list, tuple, set, dict y frozenset.\n",
    "\n",
    "## 2. Operadores \n",
    "Ejemplo de uso de un operador aritmético en Python:"
   ]
  },
  {
   "cell_type": "code",
   "execution_count": null,
   "metadata": {},
   "outputs": [],
   "source": [
    "suma = 5 + 3"
   ]
  },
  {
   "cell_type": "markdown",
   "metadata": {},
   "source": [
    "El operador usado para obtener el residuo de una división es %.\n",
    "\n",
    "Python también soporta operadores de comparación (==, !=, >, <), operadores lógicos (and, or, not), y operadores bit a bit (&, |, ^, <<, >>).\n",
    "\n",
    "## 3. Estructuras de ControlDiferencia entre un bucle for y un bucle while:\n",
    "- for se usa cuando se conoce el número de iteraciones.\n",
    "\n",
    "- while se usa cuando la condición se evalúa en cada iteración y no se conoce el número exacto de repeticiones.\n",
    "\n",
    "Ejemplo de estructura if-else para verificar si un número es positivo o negativo:"
   ]
  },
  {
   "cell_type": "code",
   "execution_count": null,
   "metadata": {},
   "outputs": [],
   "source": [
    "num = int(input(\"Ingrese un número: \"))\n",
    "if num > 0:\n",
    "    print(\"El número es positivo\")\n",
    "elif num < 0:\n",
    "    print(\"El número es negativo\")\n",
    "else:\n",
    "    print(\"El número es cero\")"
   ]
  },
  {
   "cell_type": "markdown",
   "metadata": {},
   "source": [
    "Ejemplo de bucle for con enumerate:"
   ]
  },
  {
   "cell_type": "code",
   "execution_count": null,
   "metadata": {},
   "outputs": [],
   "source": [
    "colores = [\"rojo\", \"verde\", \"azul\"]\n",
    "for indice, color in enumerate(colores):\n",
    "    print(f\"Índice {indice}: {color}\")"
   ]
  },
  {
   "cell_type": "markdown",
   "metadata": {},
   "source": [
    "## 4. Listas, Tuplas, Conjuntos y Diccionarios\n",
    "Ejemplo de creación de una lista con tres elementos y acceso al segundo elemento:"
   ]
  },
  {
   "cell_type": "code",
   "execution_count": null,
   "metadata": {},
   "outputs": [],
   "source": [
    "mi_lista = [\"rojo\", \"verde\", \"azul\"]\n",
    "print(mi_lista[1])"
   ]
  },
  {
   "cell_type": "markdown",
   "metadata": {},
   "source": [
    "Diferencias:\n",
    "\n",
    "- Lista: estructura ordenada y mutable.\n",
    "\n",
    "- Tupla: estructura ordenada pero inmutable.\n",
    "\n",
    "- Conjunto (set): estructura no ordenada con valores únicos.\n",
    "\n",
    "- Diccionario: estructura de clave-valor.\n",
    "\n",
    "- Ejemplo de creación de un diccionario con dos claves: \"nombre\" y \"edad\":"
   ]
  },
  {
   "cell_type": "code",
   "execution_count": null,
   "metadata": {},
   "outputs": [],
   "source": [
    "datos = {\"nombre\": \"Ana\", \"edad\": 25}"
   ]
  },
  {
   "cell_type": "markdown",
   "metadata": {},
   "source": [
    "## 5. Funciones y DecoradoresPara definir una función en Python se usa la palabra clave def.\n",
    "Ejemplo de una función que recibe dos números y devuelve su suma:"
   ]
  },
  {
   "cell_type": "code",
   "execution_count": null,
   "metadata": {},
   "outputs": [],
   "source": [
    "def sumar(a, b):\n",
    "    return a + b"
   ]
  },
  {
   "cell_type": "markdown",
   "metadata": {},
   "source": [
    "Un decorador en Python es una función que toma otra función como entrada y extiende o modifica su comportamiento sin cambiar su código fuente.\n",
    "Ejemplo de decorador:"
   ]
  },
  {
   "cell_type": "code",
   "execution_count": null,
   "metadata": {},
   "outputs": [],
   "source": [
    "def decorador(func):\n",
    "    def nueva_funcion(*args, **kwargs):\n",
    "        print(\"Ejecutando función...\")\n",
    "        return func(*args, **kwargs)\n",
    "    return nueva_funcion\n",
    "\n",
    "@decorador\n",
    "def hola():\n",
    "    print(\"¡Hola mundo!\")\n",
    "\n",
    "hola()"
   ]
  },
  {
   "cell_type": "markdown",
   "metadata": {},
   "source": [
    "## 6. Manejo de Archivos\n",
    "Para abrir un archivo en modo lectura en Python se usa open(\"archivo.txt\", \"r\").\n",
    "Ejemplo para leer el contenido de un archivo llamado \"datos.txt\":"
   ]
  },
  {
   "cell_type": "code",
   "execution_count": null,
   "metadata": {},
   "outputs": [],
   "source": [
    "with open(\"datos.txt\", \"r\") as archivo:\n",
    "    contenido = archivo.read()\n",
    "    print(contenido)"
   ]
  },
  {
   "cell_type": "markdown",
   "metadata": {},
   "source": [
    "Escritura en un archivo:"
   ]
  },
  {
   "cell_type": "code",
   "execution_count": null,
   "metadata": {},
   "outputs": [],
   "source": [
    "with open(\"salida.txt\", \"w\") as archivo:\n",
    "    archivo.write(\"Hola, mundo!\")"
   ]
  },
  {
   "cell_type": "markdown",
   "metadata": {},
   "source": [
    "## 7. Programación Orientada a Objetos (POO)\n",
    "Ejemplo de clase en Python:"
   ]
  },
  {
   "cell_type": "code",
   "execution_count": null,
   "metadata": {},
   "outputs": [],
   "source": [
    "class Persona:\n",
    "    def __init__(self, nombre, edad):\n",
    "        self.nombre = nombre\n",
    "        self.edad = edad\n",
    "\n",
    "    def saludar(self):\n",
    "        print(f\"Hola, mi nombre es {self.nombre} y tengo {self.edad} años.\")\n",
    "\n",
    "persona = Persona(\"Carlos\", 30)\n",
    "persona.saludar()"
   ]
  },
  {
   "cell_type": "markdown",
   "metadata": {},
   "source": [
    "## 8. Módulos y Librerías\n",
    "Importación de módulos:"
   ]
  },
  {
   "cell_type": "code",
   "execution_count": null,
   "metadata": {},
   "outputs": [],
   "source": [
    "import math\n",
    "print(math.sqrt(25))"
   ]
  },
  {
   "cell_type": "markdown",
   "metadata": {},
   "source": [
    "Uso de random:"
   ]
  },
  {
   "cell_type": "code",
   "execution_count": null,
   "metadata": {},
   "outputs": [],
   "source": [
    "import random\n",
    "print(random.randint(1, 10))"
   ]
  },
  {
   "cell_type": "markdown",
   "metadata": {},
   "source": [
    "## 9. Manejo de Excepciones\n",
    "Ejemplo de try-except en Python:"
   ]
  },
  {
   "cell_type": "code",
   "execution_count": null,
   "metadata": {},
   "outputs": [],
   "source": [
    "try:\n",
    "    x = 1 / 0\n",
    "except ZeroDivisionError as e:\n",
    "    print(f\"Error: {e}\")"
   ]
  },
  {
   "cell_type": "markdown",
   "metadata": {},
   "source": [
    "## 10. Funciones Lambda\n",
    "Una lambda function en Python es una función anónima de una sola línea.\n",
    "Ejemplo de lambda function para elevar un número al cuadrado:"
   ]
  },
  {
   "cell_type": "code",
   "execution_count": null,
   "metadata": {},
   "outputs": [],
   "source": [
    "cuadrado = lambda x: x ** 2\n",
    "print(cuadrado(4))"
   ]
  },
  {
   "cell_type": "markdown",
   "metadata": {},
   "source": [
    "Ejemplo de uso de map, filter y reduce:"
   ]
  },
  {
   "cell_type": "code",
   "execution_count": null,
   "metadata": {},
   "outputs": [],
   "source": [
    "from functools import reduce\n",
    "numeros = [1, 2, 3, 4, 5]\n",
    "cuadrados = list(map(lambda x: x**2, numeros))\n",
    "pares = list(filter(lambda x: x % 2 == 0, numeros))\n",
    "suma_total = reduce(lambda x, y: x + y, numeros)"
   ]
  },
  {
   "cell_type": "markdown",
   "metadata": {},
   "source": [
    "## 11. Pandas y Matplotlib\n",
    "\n",
    "### Pandas:\n",
    "\n",
    "- Lectura de CSV:"
   ]
  },
  {
   "cell_type": "code",
   "execution_count": null,
   "metadata": {},
   "outputs": [],
   "source": [
    "import pandas as pd\n",
    "df = pd.read_csv(\"datos.csv\")\n",
    "print(df.head())"
   ]
  },
  {
   "cell_type": "markdown",
   "metadata": {},
   "source": [
    "- Selección de columnas"
   ]
  },
  {
   "cell_type": "code",
   "execution_count": null,
   "metadata": {},
   "outputs": [],
   "source": [
    "print(df[\"Nombre\"])"
   ]
  },
  {
   "cell_type": "markdown",
   "metadata": {},
   "source": [
    "- Filtrado de datos"
   ]
  },
  {
   "cell_type": "code",
   "execution_count": null,
   "metadata": {},
   "outputs": [],
   "source": [
    "mayores_30 = df[df[\"Edad\"] > 30]\n",
    "print(mayores_30)"
   ]
  },
  {
   "cell_type": "markdown",
   "metadata": {},
   "source": [
    "- Agrupación de datos"
   ]
  },
  {
   "cell_type": "code",
   "execution_count": null,
   "metadata": {},
   "outputs": [],
   "source": [
    "grupo = df.groupby(\"Categoría\").mean()\n",
    "print(grupo)"
   ]
  },
  {
   "cell_type": "markdown",
   "metadata": {},
   "source": [
    "### Matplotlib\n",
    "\n",
    "- Gráfico de barras:"
   ]
  },
  {
   "cell_type": "code",
   "execution_count": null,
   "metadata": {},
   "outputs": [],
   "source": [
    "import matplotlib.pyplot as plt\n",
    "df[\"Categoría\"].value_counts().plot(kind=\"bar\")\n",
    "plt.show()"
   ]
  },
  {
   "cell_type": "markdown",
   "metadata": {},
   "source": [
    "- Histograma"
   ]
  },
  {
   "cell_type": "code",
   "execution_count": null,
   "metadata": {},
   "outputs": [],
   "source": [
    "df[\"Edad\"].plot(kind=\"hist\", bins=10)\n",
    "plt.show()"
   ]
  },
  {
   "cell_type": "markdown",
   "metadata": {},
   "source": [
    "- Gráfica de dispersión"
   ]
  },
  {
   "cell_type": "code",
   "execution_count": null,
   "metadata": {},
   "outputs": [],
   "source": [
    "plt.scatter(df[\"Edad\"], df[\"Salario\"])\n",
    "plt.xlabel(\"Edad\")\n",
    "plt.ylabel(\"Salario\")\n",
    "plt.show()"
   ]
  }
 ],
 "metadata": {
  "kernelspec": {
   "display_name": "Python 3",
   "language": "python",
   "name": "python3"
  },
  "language_info": {
   "name": "python",
   "version": "3.11.9"
  }
 },
 "nbformat": 4,
 "nbformat_minor": 2
}
