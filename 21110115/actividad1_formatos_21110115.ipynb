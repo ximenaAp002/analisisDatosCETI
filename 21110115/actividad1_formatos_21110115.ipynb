{
 "cells": [
  {
   "cell_type": "markdown",
   "metadata": {},
   "source": [
    "# Avtividad 1 Formatos\n",
    "### Becerra Jimenez Muriel Cristobal /21110115/7°P"
   ]
  },
  {
   "cell_type": "markdown",
   "metadata": {},
   "source": [
    "## importar pandas\n"
   ]
  },
  {
   "cell_type": "code",
   "execution_count": 2,
   "metadata": {},
   "outputs": [],
   "source": [
    "import pandas as pd\n"
   ]
  },
  {
   "cell_type": "markdown",
   "metadata": {},
   "source": [
    "## Series\n"
   ]
  },
  {
   "cell_type": "code",
   "execution_count": 3,
   "metadata": {},
   "outputs": [
    {
     "name": "stdout",
     "output_type": "stream",
     "text": [
      "0    1\n",
      "1    3\n",
      "2    5\n",
      "3    7\n",
      "4    9\n",
      "dtype: int64\n"
     ]
    }
   ],
   "source": [
    "\n",
    "s = pd.Series([1, 3, 5, 7, 9])\n",
    "print(s)"
   ]
  },
  {
   "cell_type": "markdown",
   "metadata": {},
   "source": [
    "## Data set"
   ]
  },
  {
   "cell_type": "code",
   "execution_count": 4,
   "metadata": {},
   "outputs": [
    {
     "name": "stdout",
     "output_type": "stream",
     "text": [
      "--------------------------Data set-------------------------\n",
      "   Nombre  Edad       Ciudad\n",
      "0     Ana    23         CDMX\n",
      "1    Luis    30    Monterrey\n",
      "2  Carlos    25  Guadalajara\n"
     ]
    }
   ],
   "source": [
    "data = {'Nombre': ['Ana', 'Luis', 'Carlos'],\n",
    "        'Edad': [23, 30, 25],\n",
    "        'Ciudad': ['CDMX', 'Monterrey', 'Guadalajara']}\n",
    "df = pd.DataFrame(data)\n",
    "df\n",
    "\n",
    "print(\"--------------------------Data set-------------------------\")\n",
    "print(df)"
   ]
  },
  {
   "cell_type": "markdown",
   "metadata": {},
   "source": [
    "# Leer y escribir archivos"
   ]
  },
  {
   "cell_type": "markdown",
   "metadata": {},
   "source": [
    "## leer\n"
   ]
  },
  {
   "cell_type": "code",
   "execution_count": null,
   "metadata": {},
   "outputs": [],
   "source": [
    "df = pd.read_csv(\"archivo.csv\")  # Leer un CSV\n",
    "df = pd.read_excel(\"archivo.xlsx\")  # Leer un Excel\n",
    "df = pd.read_json(\"archivo.json\")  # Leer un JSON"
   ]
  },
  {
   "cell_type": "markdown",
   "metadata": {},
   "source": [
    "## archivo especifico"
   ]
  },
  {
   "cell_type": "code",
   "execution_count": 6,
   "metadata": {},
   "outputs": [
    {
     "name": "stdout",
     "output_type": "stream",
     "text": [
      "---------------------------dataset de videojuegos-----------------\n",
      "                                                 img  \\\n",
      "0      /games/boxart/full_6510540AmericaFrontccc.jpg   \n",
      "1      /games/boxart/full_5563178AmericaFrontccc.jpg   \n",
      "2                        /games/boxart/827563ccc.jpg   \n",
      "3      /games/boxart/full_9218923AmericaFrontccc.jpg   \n",
      "4      /games/boxart/full_4990510AmericaFrontccc.jpg   \n",
      "...                                              ...   \n",
      "64011  /games/boxart/full_2779838AmericaFrontccc.jpg   \n",
      "64012  /games/boxart/full_8031506AmericaFrontccc.jpg   \n",
      "64013  /games/boxart/full_6553045AmericaFrontccc.jpg   \n",
      "64014    /games/boxart/full_6012940JapanFrontccc.png   \n",
      "64015                      /games/boxart/default.jpg   \n",
      "\n",
      "                                  title console         genre  \\\n",
      "0                    Grand Theft Auto V     PS3        Action   \n",
      "1                    Grand Theft Auto V     PS4        Action   \n",
      "2           Grand Theft Auto: Vice City     PS2        Action   \n",
      "3                    Grand Theft Auto V    X360        Action   \n",
      "4             Call of Duty: Black Ops 3     PS4       Shooter   \n",
      "...                                 ...     ...           ...   \n",
      "64011             XBlaze Lost: Memories      PC  Visual Novel   \n",
      "64012                      Yoru, Tomosu     PS4  Visual Novel   \n",
      "64013                      Yoru, Tomosu      NS  Visual Novel   \n",
      "64014   Yunohana SpRING! ~Mellow Times~      NS  Visual Novel   \n",
      "64015  Yurukill: The Calumniation Games     PS4  Visual Novel   \n",
      "\n",
      "                  publisher             developer  critic_score  total_sales  \\\n",
      "0            Rockstar Games        Rockstar North           9.4        20.32   \n",
      "1            Rockstar Games        Rockstar North           9.7        19.39   \n",
      "2            Rockstar Games        Rockstar North           9.6        16.15   \n",
      "3            Rockstar Games        Rockstar North           NaN        15.86   \n",
      "4                Activision              Treyarch           8.1        15.09   \n",
      "...                     ...                   ...           ...          ...   \n",
      "64011           Aksys Games      Arc System Works           NaN          NaN   \n",
      "64012  Nippon Ichi Software  Nippon Ichi Software           NaN          NaN   \n",
      "64013  Nippon Ichi Software  Nippon Ichi Software           NaN          NaN   \n",
      "64014          Idea Factory               Otomate           NaN          NaN   \n",
      "64015               Unknown            G.rev Ltd.           NaN          NaN   \n",
      "\n",
      "       na_sales  jp_sales  pal_sales  other_sales release_date last_update  \n",
      "0          6.37      0.99       9.85         3.12   2013-09-17         NaN  \n",
      "1          6.06      0.60       9.71         3.02   2014-11-18  2018-01-03  \n",
      "2          8.41      0.47       5.49         1.78   2002-10-28         NaN  \n",
      "3          9.06      0.06       5.33         1.42   2013-09-17         NaN  \n",
      "4          6.18      0.41       6.05         2.44   2015-11-06  2018-01-14  \n",
      "...         ...       ...        ...          ...          ...         ...  \n",
      "64011       NaN       NaN        NaN          NaN   2016-08-11  2019-01-28  \n",
      "64012       NaN       NaN        NaN          NaN   2020-07-30  2020-05-09  \n",
      "64013       NaN       NaN        NaN          NaN   2020-07-30  2020-05-09  \n",
      "64014       NaN       NaN        NaN          NaN   2019-02-28  2019-02-24  \n",
      "64015       NaN       NaN        NaN          NaN          NaN  2023-09-29  \n",
      "\n",
      "[64016 rows x 14 columns]\n"
     ]
    }
   ],
   "source": [
    "print(\"---------------------------dataset de videojuegos-----------------\")\n",
    "\n",
    "df = pd.read_csv(\"vgchartz-2024.csv\")  # Leer un CSV\n",
    "print(df)\n"
   ]
  },
  {
   "cell_type": "markdown",
   "metadata": {},
   "source": [
    "## guardar archivos"
   ]
  },
  {
   "cell_type": "code",
   "execution_count": null,
   "metadata": {},
   "outputs": [],
   "source": [
    "df.to_csv(\"archivo_nuevo.csv\", index=False)\n",
    "df.to_excel(\"archivo_nuevo.xlsx\", index=False)"
   ]
  },
  {
   "cell_type": "markdown",
   "metadata": {},
   "source": [
    "## Inspeccionar el DataFrame"
   ]
  },
  {
   "cell_type": "code",
   "execution_count": 7,
   "metadata": {},
   "outputs": [
    {
     "name": "stdout",
     "output_type": "stream",
     "text": [
      "----------------------inspeccionar dataframe--------------------------\n",
      "<class 'pandas.core.frame.DataFrame'>\n",
      "RangeIndex: 64016 entries, 0 to 64015\n",
      "Data columns (total 14 columns):\n",
      " #   Column        Non-Null Count  Dtype  \n",
      "---  ------        --------------  -----  \n",
      " 0   img           64016 non-null  object \n",
      " 1   title         64016 non-null  object \n",
      " 2   console       64016 non-null  object \n",
      " 3   genre         64016 non-null  object \n",
      " 4   publisher     64016 non-null  object \n",
      " 5   developer     63999 non-null  object \n",
      " 6   critic_score  6678 non-null   float64\n",
      " 7   total_sales   18922 non-null  float64\n",
      " 8   na_sales      12637 non-null  float64\n",
      " 9   jp_sales      6726 non-null   float64\n",
      " 10  pal_sales     12824 non-null  float64\n",
      " 11  other_sales   15128 non-null  float64\n",
      " 12  release_date  56965 non-null  object \n",
      " 13  last_update   17879 non-null  object \n",
      "dtypes: float64(6), object(8)\n",
      "memory usage: 6.8+ MB\n"
     ]
    },
    {
     "data": {
      "text/plain": [
       "(64016, 14)"
      ]
     },
     "execution_count": 7,
     "metadata": {},
     "output_type": "execute_result"
    }
   ],
   "source": [
    "print(\"----------------------inspeccionar dataframe--------------------------\")\n",
    "\n",
    "df.head()  # Muestra las primeras 5 filas\n",
    "df.tail()  # Muestra las últimas 5 filas\n",
    "df.info()  # Información general del DataFrame\n",
    "df.describe()  # Estadísticas descriptivas\n",
    "df.shape  # Tamaño del DataFrame (filas, columnas)"
   ]
  },
  {
   "cell_type": "markdown",
   "metadata": {},
   "source": [
    "## Selección de datos"
   ]
  },
  {
   "cell_type": "markdown",
   "metadata": {},
   "source": [
    "### Seleccionar columnas"
   ]
  },
  {
   "cell_type": "code",
   "execution_count": 8,
   "metadata": {},
   "outputs": [
    {
     "name": "stdout",
     "output_type": "stream",
     "text": [
      "----------------------seleccion de columnas------------------\n",
      "0                      Grand Theft Auto V\n",
      "1                      Grand Theft Auto V\n",
      "2             Grand Theft Auto: Vice City\n",
      "3                      Grand Theft Auto V\n",
      "4               Call of Duty: Black Ops 3\n",
      "                       ...               \n",
      "64011               XBlaze Lost: Memories\n",
      "64012                        Yoru, Tomosu\n",
      "64013                        Yoru, Tomosu\n",
      "64014     Yunohana SpRING! ~Mellow Times~\n",
      "64015    Yurukill: The Calumniation Games\n",
      "Name: title, Length: 64016, dtype: object\n",
      "                                  title console  total_sales\n",
      "0                    Grand Theft Auto V     PS3        20.32\n",
      "1                    Grand Theft Auto V     PS4        19.39\n",
      "2           Grand Theft Auto: Vice City     PS2        16.15\n",
      "3                    Grand Theft Auto V    X360        15.86\n",
      "4             Call of Duty: Black Ops 3     PS4        15.09\n",
      "...                                 ...     ...          ...\n",
      "64011             XBlaze Lost: Memories      PC          NaN\n",
      "64012                      Yoru, Tomosu     PS4          NaN\n",
      "64013                      Yoru, Tomosu      NS          NaN\n",
      "64014   Yunohana SpRING! ~Mellow Times~      NS          NaN\n",
      "64015  Yurukill: The Calumniation Games     PS4          NaN\n",
      "\n",
      "[64016 rows x 3 columns]\n"
     ]
    }
   ],
   "source": [
    "print(\"----------------------seleccion de columnas------------------\")\n",
    "\n",
    "print(df[\"title\"])\n",
    "\n",
    "print(df[[\"title\",\"console\",\"total_sales\"]])"
   ]
  },
  {
   "cell_type": "markdown",
   "metadata": {},
   "source": [
    "### Seleccionar filas"
   ]
  },
  {
   "cell_type": "code",
   "execution_count": 13,
   "metadata": {},
   "outputs": [
    {
     "name": "stdout",
     "output_type": "stream",
     "text": [
      "img             /games/boxart/full_6510540AmericaFrontccc.jpg\n",
      "title                                      Grand Theft Auto V\n",
      "console                                                   PS3\n",
      "genre                                                  Action\n",
      "publisher                                      Rockstar Games\n",
      "developer                                      Rockstar North\n",
      "critic_score                                              9.4\n",
      "total_sales                                             20.32\n",
      "na_sales                                                 6.37\n",
      "jp_sales                                                 0.99\n",
      "pal_sales                                                9.85\n",
      "other_sales                                              3.12\n",
      "release_date                                       2013-09-17\n",
      "last_update                                               NaN\n",
      "Name: 0, dtype: object\n",
      "--------------------------------------------------------------\n",
      "img             /games/boxart/full_6510540AmericaFrontccc.jpg\n",
      "title                                      Grand Theft Auto V\n",
      "console                                                   PS3\n",
      "genre                                                  Action\n",
      "publisher                                      Rockstar Games\n",
      "developer                                      Rockstar North\n",
      "critic_score                                              9.4\n",
      "total_sales                                             20.32\n",
      "na_sales                                                 6.37\n",
      "jp_sales                                                 0.99\n",
      "pal_sales                                                9.85\n",
      "other_sales                                              3.12\n",
      "release_date                                       2013-09-17\n",
      "last_update                                               NaN\n",
      "Name: 0, dtype: object\n"
     ]
    }
   ],
   "source": [
    "print(df.iloc[0])  # Primera fila (index basado en posición)\n",
    "print(\"--------------------------------------------------------------\")\n",
    "print(df.loc[0])   # Primera fila (index basado en etiquetas)"
   ]
  },
  {
   "cell_type": "markdown",
   "metadata": {},
   "source": [
    "### Filtrado de datos"
   ]
  },
  {
   "cell_type": "code",
   "execution_count": 17,
   "metadata": {},
   "outputs": [
    {
     "data": {
      "text/html": [
       "<div>\n",
       "<style scoped>\n",
       "    .dataframe tbody tr th:only-of-type {\n",
       "        vertical-align: middle;\n",
       "    }\n",
       "\n",
       "    .dataframe tbody tr th {\n",
       "        vertical-align: top;\n",
       "    }\n",
       "\n",
       "    .dataframe thead th {\n",
       "        text-align: right;\n",
       "    }\n",
       "</style>\n",
       "<table border=\"1\" class=\"dataframe\">\n",
       "  <thead>\n",
       "    <tr style=\"text-align: right;\">\n",
       "      <th></th>\n",
       "      <th>img</th>\n",
       "      <th>title</th>\n",
       "      <th>console</th>\n",
       "      <th>genre</th>\n",
       "      <th>publisher</th>\n",
       "      <th>developer</th>\n",
       "      <th>critic_score</th>\n",
       "      <th>total_sales</th>\n",
       "      <th>na_sales</th>\n",
       "      <th>jp_sales</th>\n",
       "      <th>pal_sales</th>\n",
       "      <th>other_sales</th>\n",
       "      <th>release_date</th>\n",
       "      <th>last_update</th>\n",
       "    </tr>\n",
       "  </thead>\n",
       "  <tbody>\n",
       "    <tr>\n",
       "      <th>0</th>\n",
       "      <td>/games/boxart/full_6510540AmericaFrontccc.jpg</td>\n",
       "      <td>Grand Theft Auto V</td>\n",
       "      <td>PS3</td>\n",
       "      <td>Action</td>\n",
       "      <td>Rockstar Games</td>\n",
       "      <td>Rockstar North</td>\n",
       "      <td>9.4</td>\n",
       "      <td>20.32</td>\n",
       "      <td>6.37</td>\n",
       "      <td>0.99</td>\n",
       "      <td>9.85</td>\n",
       "      <td>3.12</td>\n",
       "      <td>2013-09-17</td>\n",
       "      <td>NaN</td>\n",
       "    </tr>\n",
       "    <tr>\n",
       "      <th>1</th>\n",
       "      <td>/games/boxart/full_5563178AmericaFrontccc.jpg</td>\n",
       "      <td>Grand Theft Auto V</td>\n",
       "      <td>PS4</td>\n",
       "      <td>Action</td>\n",
       "      <td>Rockstar Games</td>\n",
       "      <td>Rockstar North</td>\n",
       "      <td>9.7</td>\n",
       "      <td>19.39</td>\n",
       "      <td>6.06</td>\n",
       "      <td>0.60</td>\n",
       "      <td>9.71</td>\n",
       "      <td>3.02</td>\n",
       "      <td>2014-11-18</td>\n",
       "      <td>2018-01-03</td>\n",
       "    </tr>\n",
       "    <tr>\n",
       "      <th>2</th>\n",
       "      <td>/games/boxart/827563ccc.jpg</td>\n",
       "      <td>Grand Theft Auto: Vice City</td>\n",
       "      <td>PS2</td>\n",
       "      <td>Action</td>\n",
       "      <td>Rockstar Games</td>\n",
       "      <td>Rockstar North</td>\n",
       "      <td>9.6</td>\n",
       "      <td>16.15</td>\n",
       "      <td>8.41</td>\n",
       "      <td>0.47</td>\n",
       "      <td>5.49</td>\n",
       "      <td>1.78</td>\n",
       "      <td>2002-10-28</td>\n",
       "      <td>NaN</td>\n",
       "    </tr>\n",
       "    <tr>\n",
       "      <th>3</th>\n",
       "      <td>/games/boxart/full_9218923AmericaFrontccc.jpg</td>\n",
       "      <td>Grand Theft Auto V</td>\n",
       "      <td>X360</td>\n",
       "      <td>Action</td>\n",
       "      <td>Rockstar Games</td>\n",
       "      <td>Rockstar North</td>\n",
       "      <td>NaN</td>\n",
       "      <td>15.86</td>\n",
       "      <td>9.06</td>\n",
       "      <td>0.06</td>\n",
       "      <td>5.33</td>\n",
       "      <td>1.42</td>\n",
       "      <td>2013-09-17</td>\n",
       "      <td>NaN</td>\n",
       "    </tr>\n",
       "    <tr>\n",
       "      <th>4</th>\n",
       "      <td>/games/boxart/full_4990510AmericaFrontccc.jpg</td>\n",
       "      <td>Call of Duty: Black Ops 3</td>\n",
       "      <td>PS4</td>\n",
       "      <td>Shooter</td>\n",
       "      <td>Activision</td>\n",
       "      <td>Treyarch</td>\n",
       "      <td>8.1</td>\n",
       "      <td>15.09</td>\n",
       "      <td>6.18</td>\n",
       "      <td>0.41</td>\n",
       "      <td>6.05</td>\n",
       "      <td>2.44</td>\n",
       "      <td>2015-11-06</td>\n",
       "      <td>2018-01-14</td>\n",
       "    </tr>\n",
       "  </tbody>\n",
       "</table>\n",
       "</div>"
      ],
      "text/plain": [
       "                                             img                        title  \\\n",
       "0  /games/boxart/full_6510540AmericaFrontccc.jpg           Grand Theft Auto V   \n",
       "1  /games/boxart/full_5563178AmericaFrontccc.jpg           Grand Theft Auto V   \n",
       "2                    /games/boxart/827563ccc.jpg  Grand Theft Auto: Vice City   \n",
       "3  /games/boxart/full_9218923AmericaFrontccc.jpg           Grand Theft Auto V   \n",
       "4  /games/boxart/full_4990510AmericaFrontccc.jpg    Call of Duty: Black Ops 3   \n",
       "\n",
       "  console    genre       publisher       developer  critic_score  total_sales  \\\n",
       "0     PS3   Action  Rockstar Games  Rockstar North           9.4        20.32   \n",
       "1     PS4   Action  Rockstar Games  Rockstar North           9.7        19.39   \n",
       "2     PS2   Action  Rockstar Games  Rockstar North           9.6        16.15   \n",
       "3    X360   Action  Rockstar Games  Rockstar North           NaN        15.86   \n",
       "4     PS4  Shooter      Activision        Treyarch           8.1        15.09   \n",
       "\n",
       "   na_sales  jp_sales  pal_sales  other_sales release_date last_update  \n",
       "0      6.37      0.99       9.85         3.12   2013-09-17         NaN  \n",
       "1      6.06      0.60       9.71         3.02   2014-11-18  2018-01-03  \n",
       "2      8.41      0.47       5.49         1.78   2002-10-28         NaN  \n",
       "3      9.06      0.06       5.33         1.42   2013-09-17         NaN  \n",
       "4      6.18      0.41       6.05         2.44   2015-11-06  2018-01-14  "
      ]
     },
     "execution_count": 17,
     "metadata": {},
     "output_type": "execute_result"
    }
   ],
   "source": [
    "df[df[\"total_sales\"] > 15]  # Filtrar personas con edad mayor a 25"
   ]
  },
  {
   "cell_type": "markdown",
   "metadata": {},
   "source": [
    "## Modificar datos"
   ]
  },
  {
   "cell_type": "markdown",
   "metadata": {},
   "source": [
    "### Añadir una nueva columna"
   ]
  },
  {
   "cell_type": "code",
   "execution_count": null,
   "metadata": {},
   "outputs": [],
   "source": [
    "df[\"nueva_columna\"] = [50000, 60000, 55000]"
   ]
  },
  {
   "cell_type": "markdown",
   "metadata": {},
   "source": [
    "### Eliminar columnas o filas"
   ]
  },
  {
   "cell_type": "code",
   "execution_count": null,
   "metadata": {},
   "outputs": [],
   "source": [
    "print(\"----------------Eliminar columnas o filas---------------\")\n",
    "\n",
    "df.drop(columns=[\"nueva_columna\"], inplace=True)  # Eliminar columna\n",
    "df.drop(index=0, inplace=True)  # Eliminar primera fila"
   ]
  },
  {
   "cell_type": "markdown",
   "metadata": {},
   "source": [
    "### Renombrar columnas"
   ]
  },
  {
   "cell_type": "code",
   "execution_count": null,
   "metadata": {},
   "outputs": [],
   "source": [
    "df.rename(columns={\"title\": \"titulo\"}, inplace=True)"
   ]
  },
  {
   "cell_type": "markdown",
   "metadata": {},
   "source": [
    "## Manejo de valores nulos"
   ]
  },
  {
   "cell_type": "code",
   "execution_count": null,
   "metadata": {},
   "outputs": [],
   "source": [
    "df.isnull().sum()  # Contar valores nulos por columna\n",
    "df.dropna(inplace=True)  # Eliminar filas con valores nulos\n",
    "df.fillna(\"Desconocido\", inplace=True)  # Rellenar valores nulos"
   ]
  },
  {
   "cell_type": "markdown",
   "metadata": {},
   "source": [
    "## Operaciones estadísticas\n"
   ]
  },
  {
   "cell_type": "code",
   "execution_count": 20,
   "metadata": {},
   "outputs": [
    {
     "name": "stdout",
     "output_type": "stream",
     "text": [
      "------------------operaciones estadisticas-----------------\n",
      "0.34911267307895577 --promedio\n",
      " 6605.910000000001 --suma total\n",
      " 0.0 --minimo\n",
      " 20.32 --maximo\n",
      " 0.8074621979965598 --desciacion estandar\n",
      "\n"
     ]
    }
   ],
   "source": [
    "print(\"------------------operaciones estadisticas-----------------\")\n",
    "print(\n",
    "df[\"total_sales\"].mean(),\"--promedio\\n\" , # Promedio\n",
    "df[\"total_sales\"].sum(),\"--suma total\\n\",   # Suma total\n",
    "df[\"total_sales\"].min(),\"--minimo\\n\" ,  # Mínimo\n",
    "df[\"total_sales\"].max(),\"--maximo\\n\" ,  # Máximo\n",
    "df[\"total_sales\"].std(),\"--desciacion estandar\\n\",   # Desviación estándar}}\n",
    ")"
   ]
  },
  {
   "cell_type": "markdown",
   "metadata": {},
   "source": [
    "## Agrupación de datos"
   ]
  },
  {
   "cell_type": "code",
   "execution_count": 21,
   "metadata": {},
   "outputs": [
    {
     "name": "stdout",
     "output_type": "stream",
     "text": [
      "------------------agrupacion de datos-----------------\n"
     ]
    },
    {
     "data": {
      "text/plain": [
       "console\n",
       "2600    0.600476\n",
       "3DO     0.047500\n",
       "3DS     0.176637\n",
       "5200         NaN\n",
       "7800         NaN\n",
       "          ...   \n",
       "XOne    0.513282\n",
       "XS           NaN\n",
       "ZXS          NaN\n",
       "iOS          NaN\n",
       "iQue         NaN\n",
       "Name: total_sales, Length: 81, dtype: float64"
      ]
     },
     "execution_count": 21,
     "metadata": {},
     "output_type": "execute_result"
    }
   ],
   "source": [
    "print(\"------------------agrupacion de datos-----------------\")\n",
    "\n",
    "df.groupby(\"console\")[\"total_sales\"].mean()  # Promedio de edad por ciudad"
   ]
  },
  {
   "cell_type": "markdown",
   "metadata": {},
   "source": [
    "## Ordenar valores"
   ]
  },
  {
   "cell_type": "code",
   "execution_count": 32,
   "metadata": {},
   "outputs": [
    {
     "name": "stdout",
     "output_type": "stream",
     "text": [
      "------------------ordenar valores-----------------\n",
      "None\n",
      "-------------------------por ventas en america---------------\n",
      "                                  title console  total_sales  critic_score\n",
      "6               Call of Duty: Black Ops    X360        14.74           8.8\n",
      "5        Call of Duty: Modern Warfare 3    X360        14.82           8.7\n",
      "3                    Grand Theft Auto V    X360        15.86           NaN\n",
      "10       Call of Duty: Modern Warfare 2    X360        13.53           9.5\n",
      "2           Grand Theft Auto: Vice City     PS2        16.15           9.6\n",
      "...                                 ...     ...          ...           ...\n",
      "64011             XBlaze Lost: Memories      PC          NaN           NaN\n",
      "64012                      Yoru, Tomosu     PS4          NaN           NaN\n",
      "64013                      Yoru, Tomosu      NS          NaN           NaN\n",
      "64014   Yunohana SpRING! ~Mellow Times~      NS          NaN           NaN\n",
      "64015  Yurukill: The Calumniation Games     PS4          NaN           NaN\n",
      "\n",
      "[64016 rows x 4 columns]\n",
      "None\n",
      "-------------------------por critica---------------\n",
      "                                         title console  critic_score\n",
      "1290     Red Dead Redemption: Undead Nightmare    X360          10.0\n",
      "1191     Red Dead Redemption: Undead Nightmare     PS3          10.0\n",
      "47946                         Final Fantasy II    SNES          10.0\n",
      "45707                         Super Mario Kart    SNES          10.0\n",
      "29250  The Legend of Zelda: Breath of the Wild    WiiU          10.0\n",
      "...                                        ...     ...           ...\n",
      "64011                    XBlaze Lost: Memories      PC           NaN\n",
      "64012                             Yoru, Tomosu     PS4           NaN\n",
      "64013                             Yoru, Tomosu      NS           NaN\n",
      "64014          Yunohana SpRING! ~Mellow Times~      NS           NaN\n",
      "64015         Yurukill: The Calumniation Games     PS4           NaN\n",
      "\n",
      "[64016 rows x 3 columns]\n"
     ]
    }
   ],
   "source": [
    "\n",
    "print(\"------------------ordenar valores-----------------\")\n",
    "print(df.sort_values(by=\"na_sales\", ascending=False, inplace=True) ) \n",
    "\n",
    "print(\"-------------------------por ventas en america---------------\")\n",
    "\n",
    "print(df[[\"title\",\"console\",\"total_sales\",\"critic_score\"]])\n",
    "\n",
    "print(df.sort_values(by=\"critic_score\", ascending=False, inplace=True) ) \n",
    "print(\"-------------------------por critica---------------\")\n",
    "print(df[[\"title\",\"console\",\"critic_score\"]])"
   ]
  }
 ],
 "metadata": {
  "kernelspec": {
   "display_name": ".venv",
   "language": "python",
   "name": "python3"
  },
  "language_info": {
   "codemirror_mode": {
    "name": "ipython",
    "version": 3
   },
   "file_extension": ".py",
   "mimetype": "text/x-python",
   "name": "python",
   "nbconvert_exporter": "python",
   "pygments_lexer": "ipython3",
   "version": "3.13.2"
  }
 },
 "nbformat": 4,
 "nbformat_minor": 2
}
